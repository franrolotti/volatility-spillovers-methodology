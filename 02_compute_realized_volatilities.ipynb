{
 "cells": [
  {
   "cell_type": "markdown",
   "metadata": {},
   "source": [
    " ## What does this code do?\n",
    "\n",
    "\n",
    "\n",
    " We compute simple returns $ r_{ji} = P_{ji} - P_{j, i-1} $  for the $j$-th market at interval $i$.\n",
    "\n",
    "\n",
    "\n",
    " Because prices can be zero or negative, log returns are not applicable.\n",
    "\n",
    "\n",
    "\n",
    " Following Andersen et al. (2001) and Bollerslev et al. (2020), we estimate the realized daily variation and covariation using the covariance matrix definition:\n",
    "\n",
    "\n",
    "$$\n",
    "\\text{ReCov} = \\sum_{i=1}^m r_i r_i' = \n",
    "\\begin{bmatrix}\n",
    "\\text{ReVar}_{FR} & \\text{ReCov}_{FR-ES} & \\text{ReCov}_{FR-PT} \\\\\n",
    "\\text{ReCov}_{ES-FR} & \\text{ReVar}_{ES} & \\text{ReCov}_{ES-PT} \\\\\n",
    "\\text{ReCov}_{PT-FR} & \\text{ReCov}_{PT-ES} & \\text{ReVar}_{PT}\n",
    "\\end{bmatrix}\n",
    "$$\n",
    "\n",
    "\n",
    "\n",
    "\n",
    " To prepare for the multivariate HAR (MHAR) model (Corsi, 2009), we apply a **variance stabilizer** based on the Probability Integral Transform (PIT) following Uniejewski et al. (2017):\n",
    "\n",
    " $$\n",
    "\n",
    " Z_t = G^{-1}(\\hat{F}(X_t))\n",
    "\n",
    " $$\n",
    "\n",
    " where $X_t$ is the realized measure, $\\hat{F}$ its estimated CDF, and $G^{-1}$ the inverse standard normal CDF.\n",
    "\n",
    "\n",
    "\n",
    " This transformation is used to approximate normality of the realized measures, which is important for the generalized variance decomposition step."
   ]
  },
  {
   "cell_type": "markdown",
   "metadata": {},
   "source": [
    " ## Step 1: Load data and handle DST duplicates"
   ]
  },
  {
   "cell_type": "code",
   "execution_count": 1,
   "metadata": {},
   "outputs": [],
   "source": [
    "# Import libraries\n",
    "\n",
    "import pandas as pd\n",
    "import numpy as np\n",
    "from scipy.stats import norm\n",
    "import os\n",
    "import matplotlib.pyplot as plt\n",
    "import seaborn as sns\n",
    "import ipywidgets as widgets\n",
    "from IPython.display import display, clear_output\n"
   ]
  },
  {
   "cell_type": "code",
   "execution_count": 2,
   "metadata": {},
   "outputs": [
    {
     "data": {
      "application/vnd.jupyter.widget-view+json": {
       "model_id": "37e4d500d56e401e8f231a5dc246764a",
       "version_major": 2,
       "version_minor": 0
      },
      "text/plain": [
       "Dropdown(description='Dataset:', index=1, options=('europe', 'australia'), value='australia')"
      ]
     },
     "metadata": {},
     "output_type": "display_data"
    },
    {
     "data": {
      "application/vnd.jupyter.widget-view+json": {
       "model_id": "ba5db53820dc4343beb202b1b17b5bf1",
       "version_major": 2,
       "version_minor": 0
      },
      "text/plain": [
       "Button(button_style='success', description='Load Dataset', icon='check', style=ButtonStyle(), tooltip='Click t…"
      ]
     },
     "metadata": {},
     "output_type": "display_data"
    }
   ],
   "source": [
    "# --- Create dropdown ---\n",
    "option_selector = widgets.Dropdown(\n",
    "    options=['europe', 'australia'],\n",
    "    value='europe',  # initial default\n",
    "    description='Dataset:',\n",
    "    disabled=False,\n",
    ")\n",
    "\n",
    "# --- Create button ---\n",
    "button = widgets.Button(\n",
    "    description=\"Load Dataset\",\n",
    "    button_style='success',  # 'success', 'info', 'warning', 'danger' or ''\n",
    "    tooltip='Click to load selected dataset',\n",
    "    icon='check'  # (optional) FontAwesome icon\n",
    ")\n",
    "\n",
    "# --- Define button click handler ---\n",
    "def on_button_click(b):\n",
    "    global df\n",
    "    clear_output(wait=True)  # Clears previous output to keep it clean\n",
    "    display(option_selector, button)  # Re-display widgets after clear\n",
    "    \n",
    "    selected_option = option_selector.value\n",
    "    \n",
    "    if selected_option == 'europe':\n",
    "        file_path = 'parquet_files/filtered_data.parquet'\n",
    "        try:\n",
    "            df = pd.read_parquet(file_path)\n",
    "            print(f\"✅ Europe dataset loaded from {file_path}.\")\n",
    "            print(df.head())\n",
    "        except Exception as e:\n",
    "            print(f\"❌ Error loading Europe dataset: {e}\")\n",
    "    \n",
    "    elif selected_option == 'australia':\n",
    "        file_path = 'parquet_files/filtered_data_australia.parquet'\n",
    "        try:\n",
    "            df = pd.read_parquet(file_path)\n",
    "            print(f\"✅ Australia dataset loaded from {file_path}.\")\n",
    "            print(df.head())\n",
    "        except Exception as e:\n",
    "            print(f\"❌ Error loading Australia dataset: {e}\")\n",
    "\n",
    "# --- Attach button click handler ---\n",
    "button.on_click(on_button_click)\n",
    "\n",
    "# --- Display UI ---\n",
    "display(option_selector, button)"
   ]
  },
  {
   "cell_type": "code",
   "execution_count": 3,
   "metadata": {},
   "outputs": [],
   "source": [
    "if option_selector.value == 'europe':\n",
    "    # Sort and disambiguate duplicated timestamps caused by DST\n",
    "    df = df.sort_values(['Area', 'Start DateTime'])\n",
    "    df['dup_rank'] = df.groupby(['Area', 'Start DateTime']).cumcount()\n",
    "    df['Start DateTime Unique'] = df['Start DateTime'] + pd.to_timedelta(df['dup_rank'], unit='s')\n",
    "\n",
    "    # Pivot to get prices in wide format (rows = times, columns = markets)\n",
    "    df_pivot = df.pivot(index='Start DateTime Unique', columns='Area', values='Day-ahead Price (EUR/MWh)').sort_index()\n",
    "    df_pivot.head(5)\n",
    "else:\n",
    "    df['Start DateTime Unique'] = df['Start DateTime']\n",
    "\n",
    "    # Pivot to get prices in wide format (rows = times, columns = markets)\n",
    "    df_pivot = df.pivot(index='Start DateTime Unique', columns='Area', values='Day-ahead Price (EUR/MWh)').sort_index()\n",
    "    df_pivot.head(5)\n"
   ]
  },
  {
   "cell_type": "markdown",
   "metadata": {},
   "source": [
    " ## Step 2: Compute simple returns"
   ]
  },
  {
   "cell_type": "code",
   "execution_count": 5,
   "metadata": {},
   "outputs": [
    {
     "data": {
      "text/html": [
       "<div>\n",
       "<style scoped>\n",
       "    .dataframe tbody tr th:only-of-type {\n",
       "        vertical-align: middle;\n",
       "    }\n",
       "\n",
       "    .dataframe tbody tr th {\n",
       "        vertical-align: top;\n",
       "    }\n",
       "\n",
       "    .dataframe thead th {\n",
       "        text-align: right;\n",
       "    }\n",
       "</style>\n",
       "<table border=\"1\" class=\"dataframe\">\n",
       "  <thead>\n",
       "    <tr style=\"text-align: right;\">\n",
       "      <th>Area</th>\n",
       "      <th>nsw</th>\n",
       "      <th>qld</th>\n",
       "      <th>sa</th>\n",
       "      <th>tas</th>\n",
       "      <th>vic</th>\n",
       "    </tr>\n",
       "    <tr>\n",
       "      <th>Start DateTime Unique</th>\n",
       "      <th></th>\n",
       "      <th></th>\n",
       "      <th></th>\n",
       "      <th></th>\n",
       "      <th></th>\n",
       "    </tr>\n",
       "  </thead>\n",
       "  <tbody>\n",
       "    <tr>\n",
       "      <th>2009-07-01 00:05:00</th>\n",
       "      <td>0.768261</td>\n",
       "      <td>1.160089</td>\n",
       "      <td>1.090210</td>\n",
       "      <td>0.385499</td>\n",
       "      <td>0.00000</td>\n",
       "    </tr>\n",
       "    <tr>\n",
       "      <th>2009-07-01 00:10:00</th>\n",
       "      <td>-0.030880</td>\n",
       "      <td>-0.192490</td>\n",
       "      <td>0.302669</td>\n",
       "      <td>-0.154579</td>\n",
       "      <td>-0.11000</td>\n",
       "    </tr>\n",
       "    <tr>\n",
       "      <th>2009-07-01 00:15:00</th>\n",
       "      <td>-0.942432</td>\n",
       "      <td>-0.006299</td>\n",
       "      <td>-0.499500</td>\n",
       "      <td>-1.629330</td>\n",
       "      <td>-2.57703</td>\n",
       "    </tr>\n",
       "    <tr>\n",
       "      <th>2009-07-01 00:20:00</th>\n",
       "      <td>-1.097372</td>\n",
       "      <td>-0.961300</td>\n",
       "      <td>-1.289570</td>\n",
       "      <td>-1.031640</td>\n",
       "      <td>-1.01297</td>\n",
       "    </tr>\n",
       "    <tr>\n",
       "      <th>2009-07-01 00:25:00</th>\n",
       "      <td>-1.910073</td>\n",
       "      <td>-1.923970</td>\n",
       "      <td>-4.372559</td>\n",
       "      <td>-2.112760</td>\n",
       "      <td>1.06755</td>\n",
       "    </tr>\n",
       "  </tbody>\n",
       "</table>\n",
       "</div>"
      ],
      "text/plain": [
       "Area                        nsw       qld        sa       tas      vic\n",
       "Start DateTime Unique                                                 \n",
       "2009-07-01 00:05:00    0.768261  1.160089  1.090210  0.385499  0.00000\n",
       "2009-07-01 00:10:00   -0.030880 -0.192490  0.302669 -0.154579 -0.11000\n",
       "2009-07-01 00:15:00   -0.942432 -0.006299 -0.499500 -1.629330 -2.57703\n",
       "2009-07-01 00:20:00   -1.097372 -0.961300 -1.289570 -1.031640 -1.01297\n",
       "2009-07-01 00:25:00   -1.910073 -1.923970 -4.372559 -2.112760  1.06755"
      ]
     },
     "execution_count": 5,
     "metadata": {},
     "output_type": "execute_result"
    }
   ],
   "source": [
    "# Calculate simple returns: \\(r_{ji} = P_{ji} - P_{j,i-1}\\)\n",
    "simple_returns = df_pivot.diff().dropna()\n",
    "simple_returns.head(5)\n"
   ]
  },
  {
   "cell_type": "markdown",
   "metadata": {},
   "source": [
    " ## Step 3: Calculate daily realized covariance matrices"
   ]
  },
  {
   "cell_type": "code",
   "execution_count": 6,
   "metadata": {},
   "outputs": [],
   "source": [
    "# Add date column to group by day\n",
    "simple_returns['Date'] = simple_returns.index.date\n",
    "\n",
    "# Prepare a dict to store daily covariance DataFrames\n",
    "daily_covariances = {}\n",
    "\n",
    "# Loop through each day to compute daily realized covariance matrices\n",
    "for day, group in simple_returns.groupby('Date'):\n",
    "    returns_only = group.drop(columns='Date')\n",
    "    cov_matrix = np.zeros((returns_only.shape[1], returns_only.shape[1]))\n",
    "    for i in range(returns_only.shape[0]):\n",
    "        r = returns_only.iloc[i].values.reshape(-1, 1)\n",
    "        cov_matrix += r @ r.T\n",
    "    daily_covariances[day] = pd.DataFrame(cov_matrix, index=returns_only.columns, columns=returns_only.columns)\n"
   ]
  },
  {
   "cell_type": "code",
   "execution_count": 7,
   "metadata": {},
   "outputs": [
    {
     "name": "stdout",
     "output_type": "stream",
     "text": [
      "2009-07-01\n",
      "Area          nsw         qld           sa           tas         vic\n",
      "Area                                                                \n",
      "nsw   1235.554971  475.459351  1712.430651   2827.001259  624.115158\n",
      "qld    475.459351  475.359984   284.854716    651.697397  448.116422\n",
      "sa    1712.430651  284.854716  6361.076215   1034.661122  545.766451\n",
      "tas   2827.001259  651.697397  1034.661122  10696.216454  997.984823\n",
      "vic    624.115158  448.116422   545.766451    997.984823  619.664690\n"
     ]
    }
   ],
   "source": [
    "# Print the first day covariance matrix\n",
    "first_key, first_value = next(iter(daily_covariances.items()))\n",
    "print(first_key)\n",
    "print(first_value)"
   ]
  },
  {
   "cell_type": "markdown",
   "metadata": {},
   "source": [
    " ## Step 4: Apply variance stabilizer (PIT transformation) to daily realized variances"
   ]
  },
  {
   "cell_type": "code",
   "execution_count": 8,
   "metadata": {},
   "outputs": [
    {
     "name": "stdout",
     "output_type": "stream",
     "text": [
      "Area                  nsw            qld             sa           tas  \\\n",
      "2009-07-01    1235.554971     475.359984    6361.076215  1.069622e+04   \n",
      "2009-07-02   36508.966101  314279.969197   11450.718413  1.040328e+04   \n",
      "2009-07-03    1346.691906    1511.349838    1475.989691  2.030409e+03   \n",
      "2009-07-04    1183.351100     743.418378    1164.803743  9.178690e+03   \n",
      "2009-07-05    5212.079291    4938.017722    5169.411958  6.199677e+03   \n",
      "...                   ...            ...            ...           ...   \n",
      "2019-02-24   44529.152479   44469.486199  125353.763951  5.605993e+04   \n",
      "2019-02-25  180212.676970   23308.228850  603045.632869  4.569567e+05   \n",
      "2019-02-26   28112.638847   18201.318341   88553.558946  9.057208e+04   \n",
      "2019-02-27   56225.725797   45567.130857  171126.500710  1.560596e+05   \n",
      "2019-02-28  298249.920373   17051.577600  730925.238915  2.649279e+06   \n",
      "\n",
      "Area                  vic  \n",
      "2009-07-01     619.664690  \n",
      "2009-07-02   17659.879307  \n",
      "2009-07-03    1622.974149  \n",
      "2009-07-04    1025.117527  \n",
      "2009-07-05    5149.589881  \n",
      "...                   ...  \n",
      "2019-02-24  108799.947773  \n",
      "2019-02-25  597186.892238  \n",
      "2019-02-26   71596.274273  \n",
      "2019-02-27  137573.603199  \n",
      "2019-02-28  658739.696412  \n",
      "\n",
      "[3530 rows x 5 columns]\n"
     ]
    }
   ],
   "source": [
    "# Extract realized variances (diagonal of daily covariance matrices) into a DataFrame\n",
    "daily_vars = pd.DataFrame(\n",
    "    {\n",
    "        day: pd.Series(np.diag(cov), index=cov.index)  # Use cov.index as labels for diagonal\n",
    "        for day, cov in daily_covariances.items()\n",
    "    }\n",
    ").T  # transpose to have days as rows\n",
    "\n",
    "daily_vars.index = pd.to_datetime(daily_vars.index)\n",
    "\n",
    "print(daily_vars)\n"
   ]
  },
  {
   "cell_type": "code",
   "execution_count": 9,
   "metadata": {},
   "outputs": [
    {
     "name": "stderr",
     "output_type": "stream",
     "text": [
      "C:\\Users\\frolo\\AppData\\Local\\Packages\\PythonSoftwareFoundation.Python.3.10_qbz5n2kfra8p0\\LocalCache\\local-packages\\Python310\\site-packages\\seaborn\\_oldcore.py:1119: FutureWarning: use_inf_as_na option is deprecated and will be removed in a future version. Convert inf values to NaN before operating instead.\n",
      "  with pd.option_context('mode.use_inf_as_na', True):\n",
      "C:\\Users\\frolo\\AppData\\Local\\Packages\\PythonSoftwareFoundation.Python.3.10_qbz5n2kfra8p0\\LocalCache\\local-packages\\Python310\\site-packages\\seaborn\\_oldcore.py:1119: FutureWarning: use_inf_as_na option is deprecated and will be removed in a future version. Convert inf values to NaN before operating instead.\n",
      "  with pd.option_context('mode.use_inf_as_na', True):\n"
     ]
    },
    {
     "data": {
      "image/png": "[encoded data removed]",
      "text/plain": [
       "<Figure size 1400x600 with 2 Axes>"
      ]
     },
     "metadata": {},
     "output_type": "display_data"
    }
   ],
   "source": [
    "# Estimate the empirical cumulative distribution function (CDF) for each market's realized variances\n",
    "# and apply the Probability Integral Transform (PIT) to stabilize variance and achieve approximate normality.\n",
    "#\n",
    "# The PIT is performed by:\n",
    "# 1. Sorting the data to estimate the empirical CDF values for each observation.\n",
    "# 2. Using these CDF values as inputs to the inverse standard normal CDF (norm.ppf),\n",
    "#    which transforms the data to follow an approximately standard normal distribution.\n",
    "#\n",
    "# Clipping the CDF values avoids issues with extreme 0 or 1 probabilities, which would\n",
    "# lead to infinite values after the inverse normal transform.\n",
    "\n",
    "def pit_transform(x):\n",
    "    sorted_x = np.sort(x)\n",
    "    cdf_vals = np.searchsorted(sorted_x, x, side='right') / len(x)\n",
    "    # Avoid exact 0 or 1 for norm.ppf by clipping\n",
    "    cdf_vals = np.clip(cdf_vals, 1e-6, 1-1e-6)\n",
    "    return norm.ppf(cdf_vals)\n",
    "\n",
    "pit_vars = daily_vars.apply(pit_transform, axis=0)\n",
    "\n",
    "# Plot distributions before and after PIT transform for a selected market\n",
    "market = daily_vars.columns[0]  # choose the first market as example\n",
    "\n",
    "plt.figure(figsize=(14,6))\n",
    "\n",
    "plt.subplot(1, 2, 1)\n",
    "sns.histplot(daily_vars[market], bins=30, kde=True)\n",
    "plt.title(f'Distribution of Realized Variances for {market}')\n",
    "plt.xlabel('Realized Variance')\n",
    "plt.ylabel('Frequency')\n",
    "\n",
    "plt.subplot(1, 2, 2)\n",
    "sns.histplot(pit_vars[market], bins=30, kde=True, color='orange')\n",
    "plt.title(f'PIT-Transformed Realized Variances for {market}')\n",
    "plt.xlabel('Transformed Value (approx Normal)')\n",
    "plt.ylabel('Frequency')\n",
    "\n",
    "plt.tight_layout()\n",
    "plt.show()\n",
    "\n"
   ]
  },
  {
   "cell_type": "markdown",
   "metadata": {},
   "source": [
    " ## Step 5: Save outputs for modeling"
   ]
  },
  {
   "cell_type": "code",
   "execution_count": 10,
   "metadata": {},
   "outputs": [],
   "source": [
    "# Save simple returns (without Date column)\n",
    "simple_returns.drop(columns='Date').to_parquet(f\"parquet_files/simple_returns_{option_selector.value}.parquet\")\n",
    "\n",
    "# Save daily realized covariance matrices as a single parquet with MultiIndex (day + market pairs)\n",
    "# Flatten daily covariance matrices into long format for storage\n",
    "records = []\n",
    "for day, cov in daily_covariances.items():\n",
    "    for i, mkt1 in enumerate(cov.index):\n",
    "        for j, mkt2 in enumerate(cov.columns):\n",
    "            records.append({'Date': day, 'Market1': mkt1, 'Market2': mkt2, 'Value': cov.iloc[i,j]})\n",
    "\n",
    "daily_cov_long = pd.DataFrame(records)\n",
    "daily_cov_long.to_parquet(f\"parquet_files/daily_realized_covariances_{option_selector.value}.parquet\")\n",
    "\n",
    "# Save PIT-transformed variances\n",
    "pit_vars.to_parquet(f\"parquet_files/pit_transformed_variances_{option_selector.value}.parquet\")\n"
   ]
  },
  {
   "cell_type": "code",
   "execution_count": 11,
   "metadata": {},
   "outputs": [
    {
     "data": {
      "text/html": [
       "<div>\n",
       "<style scoped>\n",
       "    .dataframe tbody tr th:only-of-type {\n",
       "        vertical-align: middle;\n",
       "    }\n",
       "\n",
       "    .dataframe tbody tr th {\n",
       "        vertical-align: top;\n",
       "    }\n",
       "\n",
       "    .dataframe thead th {\n",
       "        text-align: right;\n",
       "    }\n",
       "</style>\n",
       "<table border=\"1\" class=\"dataframe\">\n",
       "  <thead>\n",
       "    <tr style=\"text-align: right;\">\n",
       "      <th>Area</th>\n",
       "      <th>nsw</th>\n",
       "      <th>qld</th>\n",
       "      <th>sa</th>\n",
       "      <th>tas</th>\n",
       "      <th>vic</th>\n",
       "    </tr>\n",
       "  </thead>\n",
       "  <tbody>\n",
       "    <tr>\n",
       "      <th>2009-07-01</th>\n",
       "      <td>-0.699212</td>\n",
       "      <td>-1.271926</td>\n",
       "      <td>-0.097437</td>\n",
       "      <td>-0.011362</td>\n",
       "      <td>-0.901846</td>\n",
       "    </tr>\n",
       "    <tr>\n",
       "      <th>2009-07-02</th>\n",
       "      <td>0.282052</td>\n",
       "      <td>1.040695</td>\n",
       "      <td>0.046172</td>\n",
       "      <td>-0.024856</td>\n",
       "      <td>0.442966</td>\n",
       "    </tr>\n",
       "    <tr>\n",
       "      <th>2009-07-03</th>\n",
       "      <td>-0.661619</td>\n",
       "      <td>-0.563926</td>\n",
       "      <td>-0.589925</td>\n",
       "      <td>-0.683880</td>\n",
       "      <td>-0.319200</td>\n",
       "    </tr>\n",
       "    <tr>\n",
       "      <th>2009-07-04</th>\n",
       "      <td>-0.720222</td>\n",
       "      <td>-0.947581</td>\n",
       "      <td>-0.711049</td>\n",
       "      <td>-0.065375</td>\n",
       "      <td>-0.551482</td>\n",
       "    </tr>\n",
       "    <tr>\n",
       "      <th>2009-07-05</th>\n",
       "      <td>-0.212486</td>\n",
       "      <td>-0.117435</td>\n",
       "      <td>-0.153986</td>\n",
       "      <td>-0.218300</td>\n",
       "      <td>0.083889</td>\n",
       "    </tr>\n",
       "    <tr>\n",
       "      <th>...</th>\n",
       "      <td>...</td>\n",
       "      <td>...</td>\n",
       "      <td>...</td>\n",
       "      <td>...</td>\n",
       "      <td>...</td>\n",
       "    </tr>\n",
       "    <tr>\n",
       "      <th>2019-02-24</th>\n",
       "      <td>0.335682</td>\n",
       "      <td>0.453172</td>\n",
       "      <td>0.644044</td>\n",
       "      <td>0.550656</td>\n",
       "      <td>0.929929</td>\n",
       "    </tr>\n",
       "    <tr>\n",
       "      <th>2019-02-25</th>\n",
       "      <td>0.795948</td>\n",
       "      <td>0.318453</td>\n",
       "      <td>1.207615</td>\n",
       "      <td>1.322999</td>\n",
       "      <td>1.778303</td>\n",
       "    </tr>\n",
       "    <tr>\n",
       "      <th>2019-02-26</th>\n",
       "      <td>0.219755</td>\n",
       "      <td>0.260687</td>\n",
       "      <td>0.526031</td>\n",
       "      <td>0.658088</td>\n",
       "      <td>0.772767</td>\n",
       "    </tr>\n",
       "    <tr>\n",
       "      <th>2019-02-27</th>\n",
       "      <td>0.398740</td>\n",
       "      <td>0.461845</td>\n",
       "      <td>0.783340</td>\n",
       "      <td>0.862034</td>\n",
       "      <td>1.038258</td>\n",
       "    </tr>\n",
       "    <tr>\n",
       "      <th>2019-02-28</th>\n",
       "      <td>0.935414</td>\n",
       "      <td>0.237978</td>\n",
       "      <td>1.249913</td>\n",
       "      <td>1.806620</td>\n",
       "      <td>1.828850</td>\n",
       "    </tr>\n",
       "  </tbody>\n",
       "</table>\n",
       "<p>3530 rows × 5 columns</p>\n",
       "</div>"
      ],
      "text/plain": [
       "Area             nsw       qld        sa       tas       vic\n",
       "2009-07-01 -0.699212 -1.271926 -0.097437 -0.011362 -0.901846\n",
       "2009-07-02  0.282052  1.040695  0.046172 -0.024856  0.442966\n",
       "2009-07-03 -0.661619 -0.563926 -0.589925 -0.683880 -0.319200\n",
       "2009-07-04 -0.720222 -0.947581 -0.711049 -0.065375 -0.551482\n",
       "2009-07-05 -0.212486 -0.117435 -0.153986 -0.218300  0.083889\n",
       "...              ...       ...       ...       ...       ...\n",
       "2019-02-24  0.335682  0.453172  0.644044  0.550656  0.929929\n",
       "2019-02-25  0.795948  0.318453  1.207615  1.322999  1.778303\n",
       "2019-02-26  0.219755  0.260687  0.526031  0.658088  0.772767\n",
       "2019-02-27  0.398740  0.461845  0.783340  0.862034  1.038258\n",
       "2019-02-28  0.935414  0.237978  1.249913  1.806620  1.828850\n",
       "\n",
       "[3530 rows x 5 columns]"
      ]
     },
     "execution_count": 11,
     "metadata": {},
     "output_type": "execute_result"
    }
   ],
   "source": [
    "pit_vars"
   ]
  }
 ],
 "metadata": {
  "kernelspec": {
   "display_name": "Python 3",
   "language": "python",
   "name": "python3"
  },
  "language_info": {
   "codemirror_mode": {
    "name": "ipython",
    "version": 3
   },
   "file_extension": ".py",
   "mimetype": "text/x-python",
   "name": "python",
   "nbconvert_exporter": "python",
   "pygments_lexer": "ipython3",
   "version": "3.10.11"
  }
 },
 "nbformat": 4,
 "nbformat_minor": 2
}
